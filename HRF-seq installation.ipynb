{
 "cells": [
  {
   "cell_type": "markdown",
   "metadata": {},
   "source": [
    "# Installation of RNAprobR for analysis of HRF-seq data"
   ]
  },
  {
   "cell_type": "markdown",
   "metadata": {},
   "source": [
    "R must first be installed. I had to upgrade my version of R before being able to run this. You may have to restart your computer after installing/updating R before running this code."
   ]
  },
  {
   "cell_type": "markdown",
   "metadata": {},
   "source": [
    "Available at the following: https://bioconductor.org/packages/3.4/bioc/html/RNAprobR.html"
   ]
  },
  {
   "cell_type": "markdown",
   "metadata": {},
   "source": [
    "Run the second command first first. If it fails, run the first command and then run the following two. Only run the first command if the second command fails. "
   ]
  },
  {
   "cell_type": "code",
   "execution_count": 6,
   "metadata": {},
   "outputs": [
    {
     "name": "stderr",
     "output_type": "stream",
     "text": [
      "Updating HTML index of packages in '.Library'\n",
      "Making 'packages.html' ... done\n"
     ]
    }
   ],
   "source": [
    "install.packages(\"BiocInstaller\", repos=\"http://bioconductor.org/packages/3.3/bioc\")"
   ]
  },
  {
   "cell_type": "code",
   "execution_count": 7,
   "metadata": {},
   "outputs": [
    {
     "name": "stderr",
     "output_type": "stream",
     "text": [
      "Bioconductor version 3.3 (BiocInstaller 1.22.3), ?biocLite for help\n",
      "A newer version of Bioconductor is available for this version of R,\n",
      "  ?BiocUpgrade for help\n"
     ]
    }
   ],
   "source": [
    "source(\"http://bioconductor.org/biocLite.R\")"
   ]
  },
  {
   "cell_type": "code",
   "execution_count": 10,
   "metadata": {},
   "outputs": [
    {
     "name": "stderr",
     "output_type": "stream",
     "text": [
      "BioC_mirror: http://bioconductor.org\n",
      "Using Bioconductor 3.3 (BiocInstaller 1.22.3), R 3.3.2 (2016-10-31).\n",
      "Installing package(s) ‘RNAprobR’\n",
      "Warning message:\n",
      "“unable to access index for repository https://cran.r-project.org/src/contrib:\n",
      "  cannot download all files”Warning message:\n",
      "“dependencies ‘RSQLite’, ‘XML’, ‘futile.logger’, ‘snow’ are not available”also installing the dependencies ‘S4Vectors’, ‘IRanges’, ‘GenomeInfoDb’, ‘AnnotationDbi’, ‘RCurl’, ‘XVector’, ‘biomaRt’, ‘Biobase’, ‘zlibbioc’, ‘BiocParallel’, ‘SummarizedExperiment’, ‘GenomicFeatures’, ‘BiocGenerics’, ‘Biostrings’, ‘GenomicRanges’, ‘Rsamtools’, ‘rtracklayer’, ‘GenomicAlignments’\n",
      "\n",
      "Warning message in install.packages(pkgs = doing, lib = lib, ...):\n",
      "“installation of package ‘BiocParallel’ had non-zero exit status”Warning message in install.packages(pkgs = doing, lib = lib, ...):\n",
      "“installation of package ‘AnnotationDbi’ had non-zero exit status”Warning message in install.packages(pkgs = doing, lib = lib, ...):\n",
      "“installation of package ‘biomaRt’ had non-zero exit status”Warning message in install.packages(pkgs = doing, lib = lib, ...):\n",
      "“installation of package ‘Rsamtools’ had non-zero exit status”Warning message in install.packages(pkgs = doing, lib = lib, ...):\n",
      "“installation of package ‘GenomicAlignments’ had non-zero exit status”Warning message in install.packages(pkgs = doing, lib = lib, ...):\n",
      "“installation of package ‘rtracklayer’ had non-zero exit status”Warning message in install.packages(pkgs = doing, lib = lib, ...):\n",
      "“installation of package ‘GenomicFeatures’ had non-zero exit status”Warning message in install.packages(pkgs = doing, lib = lib, ...):\n",
      "“installation of package ‘RNAprobR’ had non-zero exit status”Updating HTML index of packages in '.Library'\n",
      "Making 'packages.html' ... done\n",
      "Warning message:\n",
      "“unable to access index for repository https://cran.r-project.org/src/contrib:\n",
      "  cannot download all files”"
     ]
    }
   ],
   "source": [
    "biocLite(\"RNAprobR\")"
   ]
  },
  {
   "cell_type": "code",
   "execution_count": null,
   "metadata": {
    "collapsed": true
   },
   "outputs": [],
   "source": []
  }
 ],
 "metadata": {
  "kernelspec": {
   "display_name": "R",
   "language": "R",
   "name": "ir"
  },
  "language_info": {
   "codemirror_mode": "r",
   "file_extension": ".r",
   "mimetype": "text/x-r-source",
   "name": "R",
   "pygments_lexer": "r",
   "version": "3.3.2"
  }
 },
 "nbformat": 4,
 "nbformat_minor": 2
}
